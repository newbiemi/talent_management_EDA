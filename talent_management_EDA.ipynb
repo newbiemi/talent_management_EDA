{
  "cells": [
    {
      "cell_type": "markdown",
      "source": [
        "# Talent Management Data Analysis"
      ],
      "metadata": {
        "id": "zcjYKC_WbzBa"
      }
    },
    {
      "cell_type": "markdown",
      "source": [
        "## Introduction\n",
        "This project involves an exploratory data analysis (EDA) of a talent management dataset, which includes data on employees, their performance, and capacity.\n",
        "The goal of this analysis is to uncover insights that can inform talent management strategies and decision-making processes."
      ],
      "metadata": {
        "id": "-BWDYBnUb7RL"
      }
    },
    {
      "cell_type": "markdown",
      "metadata": {
        "id": "1smHgqHI6t71"
      },
      "source": [
        "## Dataset Description"
      ]
    },
    {
      "cell_type": "markdown",
      "metadata": {
        "id": "AJVYdk6G7P-5"
      },
      "source": [
        "\n",
        "The dataset consists of information from various sources:\n",
        "- **Employee Data**: Contains columns such as `ID`, `start_date`, `age`, `gender`, `work_location`, and `years_of_service`.\n",
        "- **Performance Data**: Includes columns like `ID`, `performance_score`, and `period`.\n",
        "- **Capacity Data**: Covers columns such as `ID`, `job_role`, `capacity_score`, `assessment_result`, and `period`.\n",
        "\n",
        "The analysis begins by loading and understanding these datasets."
      ]
    },
    {
      "cell_type": "markdown",
      "metadata": {
        "id": "Mhtu_MirDkXz"
      },
      "source": [
        "## `Libraries`"
      ]
    },
    {
      "cell_type": "code",
      "execution_count": 1,
      "metadata": {
        "id": "_6A-aEQ1BlXR",
        "colab": {
          "base_uri": "https://localhost:8080/"
        },
        "outputId": "74b18759-3111-47dd-ad05-3bf71db7df50"
      },
      "outputs": [
        {
          "output_type": "stream",
          "name": "stdout",
          "text": [
            "python 3.10.12\n",
            "pandas 2.1.4\n",
            "numpy 1.26.4\n",
            "seaborn 0.13.1\n"
          ]
        }
      ],
      "source": [
        "# python version\n",
        "from platform import python_version\n",
        "print(\"python\", python_version())\n",
        "\n",
        "import pandas as pd\n",
        "import numpy as np\n",
        "import matplotlib.pyplot as plt\n",
        "import seaborn as sns\n",
        "\n",
        "# library version\n",
        "print(pd.__name__,pd.__version__)\n",
        "print(np.__name__,np.__version__)\n",
        "print(sns.__name__,sns.__version__)"
      ]
    },
    {
      "cell_type": "markdown",
      "metadata": {
        "id": "GaT_7QO2I2Bo"
      },
      "source": [
        "## Data Loading and Preprocessing"
      ]
    },
    {
      "cell_type": "code",
      "execution_count": 2,
      "metadata": {
        "colab": {
          "base_uri": "https://localhost:8080/"
        },
        "id": "NPEVjDhxI5tO",
        "outputId": "b5fe7ec3-8cd2-409e-c908-e4b8cc9e294e"
      },
      "outputs": [
        {
          "output_type": "stream",
          "name": "stdout",
          "text": [
            "<class 'pandas.core.frame.DataFrame'>\n",
            "RangeIndex: 1584 entries, 0 to 1583\n",
            "Data columns (total 6 columns):\n",
            " #   Column            Non-Null Count  Dtype         \n",
            "---  ------            --------------  -----         \n",
            " 0   ID                1584 non-null   int64         \n",
            " 1   start_date        1584 non-null   datetime64[ns]\n",
            " 2   age               1584 non-null   int64         \n",
            " 3   gender            1584 non-null   object        \n",
            " 4   work_location     1584 non-null   object        \n",
            " 5   years_of_service  1584 non-null   int64         \n",
            "dtypes: datetime64[ns](1), int64(3), object(2)\n",
            "memory usage: 74.4+ KB\n",
            "<class 'pandas.core.frame.DataFrame'>\n",
            "RangeIndex: 1584 entries, 0 to 1583\n",
            "Data columns (total 3 columns):\n",
            " #   Column       Non-Null Count  Dtype\n",
            "---  ------       --------------  -----\n",
            " 0   ID           1584 non-null   int64\n",
            " 1   performance  1584 non-null   int64\n",
            " 2   period       1584 non-null   int64\n",
            "dtypes: int64(3)\n",
            "memory usage: 37.2 KB\n",
            "<class 'pandas.core.frame.DataFrame'>\n",
            "RangeIndex: 1584 entries, 0 to 1583\n",
            "Data columns (total 5 columns):\n",
            " #   Column             Non-Null Count  Dtype \n",
            "---  ------             --------------  ----- \n",
            " 0   ID                 1584 non-null   int64 \n",
            " 1   job_role           1584 non-null   object\n",
            " 2   capacity_score     1584 non-null   int64 \n",
            " 3   assessment_result  1584 non-null   object\n",
            " 4   period             1584 non-null   int64 \n",
            "dtypes: int64(3), object(2)\n",
            "memory usage: 62.0+ KB\n"
          ]
        }
      ],
      "source": [
        "# data parsing\n",
        "df_empl = pd.read_excel(\"/content/employee_data.xlsx\")\n",
        "df_perf = pd.read_excel(\"/content/performance_data.xlsx\")\n",
        "df_capa = pd.read_excel(\"/content/capacity_data.xlsx\")\n",
        "\n",
        "# data info\n",
        "df_empl.info()\n",
        "df_perf.info()\n",
        "df_capa.info()"
      ]
    },
    {
      "cell_type": "code",
      "source": [
        "# handling missing values (if there's any)\n",
        "df_empl['age'].fillna(df_empl['age'].mean(), inplace=True)\n",
        "df_perf.dropna(subset=['performance'], inplace=True)"
      ],
      "metadata": {
        "id": "kJaYzlaBhKUq"
      },
      "execution_count": 3,
      "outputs": []
    },
    {
      "cell_type": "markdown",
      "source": [
        "Checking any outlier in `age` to see if there's any abnormalities in employee data\n",
        "> This allows us to proceed confidently with further analysis, knowing that age-related anomalies are not a concern in our dataset.\n",
        "\n"
      ],
      "metadata": {
        "id": "aYql9eXFh6u3"
      }
    },
    {
      "cell_type": "code",
      "execution_count": 4,
      "metadata": {
        "colab": {
          "base_uri": "https://localhost:8080/",
          "height": 430
        },
        "id": "4fHVC6OJNU1T",
        "outputId": "de7ca74e-26fd-4ad4-f922-10a26a51a012"
      },
      "outputs": [
        {
          "output_type": "display_data",
          "data": {
            "text/plain": [
              "<Figure size 640x480 with 1 Axes>"
            ],
            "image/png": "[encoded data removed]"
          },
          "metadata": {}
        }
      ],
      "source": [
        "# checking for outlier with boxplot\n",
        "df_empl.boxplot(column=['age'])\n",
        "plt.show()"
      ]
    },
    {
      "cell_type": "markdown",
      "metadata": {
        "id": "kd5L-uagSdFN"
      },
      "source": [
        "maximum and minimum `age` match the endpoints of the whiskers with no additional points beyond them, so there are no outliers in this dataset according to the standard 1.5 * IQR rule"
      ]
    },
    {
      "cell_type": "code",
      "execution_count": 5,
      "metadata": {
        "colab": {
          "base_uri": "https://localhost:8080/"
        },
        "id": "IwaDIXwPQEnZ",
        "outputId": "f6300b4a-f946-4b95-d0ee-add09fde3c5e"
      },
      "outputs": [
        {
          "output_type": "stream",
          "name": "stdout",
          "text": [
            "Q1 : 35.0 | Q3 : 47.0 | IQR : 12.0\n",
            "min_IQR : 17.0 | max_IQR : 65.0\n",
            "Maximum age : 56\n",
            "Minimum age : 24\n"
          ]
        }
      ],
      "source": [
        "# calculate outlier\n",
        "Q1 = df_empl['age'].quantile(0.25)\n",
        "Q3 = df_empl['age'].quantile(0.75)\n",
        "IQR = Q3 - Q1\n",
        "print(\"Q1 :\",Q1,\"| Q3 :\",Q3,\"| IQR :\",IQR)\n",
        "\n",
        "min_IQR = Q1 - 1.5*IQR\n",
        "max_IQR = Q3 + 1.5*IQR\n",
        "print(\"min_IQR :\",min_IQR,\"| max_IQR :\",max_IQR)\n",
        "\n",
        "print(\"Maximum age :\", df_empl['age'].max())\n",
        "print('Minimum age :',df_empl['age'].min())"
      ]
    },
    {
      "cell_type": "markdown",
      "source": [
        "> The boxplot analysis of the age variable shows no outliers, indicating a consistent and normal distribution of employee ages across the company. This suggests that the workforce is age-balanced, with no extreme age-related cases that could influence the overall analysis."
      ],
      "metadata": {
        "id": "AzKNc0ZhXVzu"
      }
    },
    {
      "cell_type": "code",
      "source": [
        "# some variables description\n",
        "print(df_perf['performance'].describe())\n",
        "print(df_capa['capacity_score'].describe())"
      ],
      "metadata": {
        "colab": {
          "base_uri": "https://localhost:8080/"
        },
        "id": "YQFADdqSnr97",
        "outputId": "27bb5f50-7502-429d-dc07-6551d72ada47"
      },
      "execution_count": 6,
      "outputs": [
        {
          "output_type": "stream",
          "name": "stdout",
          "text": [
            "count    1584.000000\n",
            "mean        3.792298\n",
            "std         0.739921\n",
            "min         1.000000\n",
            "25%         3.000000\n",
            "50%         4.000000\n",
            "75%         4.000000\n",
            "max         5.000000\n",
            "Name: performance, dtype: float64\n",
            "count    1584.000000\n",
            "mean        3.644571\n",
            "std         0.752714\n",
            "min         1.000000\n",
            "25%         3.000000\n",
            "50%         4.000000\n",
            "75%         4.000000\n",
            "max         5.000000\n",
            "Name: capacity_score, dtype: float64\n"
          ]
        }
      ]
    },
    {
      "cell_type": "code",
      "execution_count": 7,
      "metadata": {
        "colab": {
          "base_uri": "https://localhost:8080/"
        },
        "id": "ciW-m00WUPNV",
        "outputId": "27755b07-3f54-4c1f-85b9-002c3e0da6af"
      },
      "outputs": [
        {
          "output_type": "stream",
          "name": "stdout",
          "text": [
            "<class 'pandas.core.frame.DataFrame'>\n",
            "RangeIndex: 1584 entries, 0 to 1583\n",
            "Data columns (total 12 columns):\n",
            " #   Column             Non-Null Count  Dtype         \n",
            "---  ------             --------------  -----         \n",
            " 0   ID                 1584 non-null   object        \n",
            " 1   start_date         1584 non-null   datetime64[ns]\n",
            " 2   age                1584 non-null   int64         \n",
            " 3   gender             1584 non-null   object        \n",
            " 4   work_location      1584 non-null   object        \n",
            " 5   years_of_service   1584 non-null   int64         \n",
            " 6   performance        1584 non-null   int64         \n",
            " 7   performance_year   1584 non-null   int64         \n",
            " 8   job_role           1584 non-null   object        \n",
            " 9   capacity_score     1584 non-null   int64         \n",
            " 10  assessment_result  1584 non-null   object        \n",
            " 11  capacity_year      1584 non-null   int64         \n",
            "dtypes: datetime64[ns](1), int64(6), object(5)\n",
            "memory usage: 148.6+ KB\n"
          ]
        }
      ],
      "source": [
        "# join all the dataframes\n",
        "df_merge = pd.merge(df_empl,df_perf, on=\"ID\").merge(df_capa, on=\"ID\")\n",
        "\n",
        "# rename columns\n",
        "df_merge.rename(columns={'period_x' : 'performance_year', 'period_y' : 'capacity_year'}, inplace=True)\n",
        "\n",
        "# change data type\n",
        "df_merge['ID'] = df_merge['ID'].astype(str)\n",
        "\n",
        "df_merge.info()"
      ]
    },
    {
      "cell_type": "code",
      "execution_count": 8,
      "metadata": {
        "colab": {
          "base_uri": "https://localhost:8080/",
          "height": 206
        },
        "id": "J1xTKwWOV7W8",
        "outputId": "09ea5f65-c626-41b8-bfa1-a04b578e788c"
      },
      "outputs": [
        {
          "output_type": "execute_result",
          "data": {
            "text/plain": [
              "      ID start_date  age  gender work_location  years_of_service  performance  \\\n",
              "0  10001 2000-02-01   54    male        branch                24            4   \n",
              "1  10002 2000-08-04   54  female        branch                24            4   \n",
              "2  10003 2000-11-01   54    male        branch                23            4   \n",
              "3  10004 2006-01-01   54    male        branch                18            4   \n",
              "4  10005 2005-01-01   54    male        branch                19            4   \n",
              "\n",
              "   performance_year   job_role  capacity_score assessment_result  \\\n",
              "0              2023  FINANCIAL               4         excellent   \n",
              "1              2023  FINANCIAL               4         excellent   \n",
              "2              2023  FINANCIAL               4         excellent   \n",
              "3              2023  FINANCIAL               4         excellent   \n",
              "4              2023  FINANCIAL               4         excellent   \n",
              "\n",
              "   capacity_year  talent_score talent_class  competency_score  \n",
              "0           2023           4.0          top                 3  \n",
              "1           2023           4.0          top                 3  \n",
              "2           2023           4.0          top                 3  \n",
              "3           2023           4.0          top                 3  \n",
              "4           2023           4.0          top                 3  "
            ],
            "text/html": [
              "\n",
              "  <div id=\"df-35552449-e50f-4c73-a1eb-4753d5c46217\" class=\"colab-df-container\">\n",
              "    <div>\n",
              "<style scoped>\n",
              "    .dataframe tbody tr th:only-of-type {\n",
              "        vertical-align: middle;\n",
              "    }\n",
              "\n",
              "    .dataframe tbody tr th {\n",
              "        vertical-align: top;\n",
              "    }\n",
              "\n",
              "    .dataframe thead th {\n",
              "        text-align: right;\n",
              "    }\n",
              "</style>\n",
              "<table border=\"1\" class=\"dataframe\">\n",
              "  <thead>\n",
              "    <tr style=\"text-align: right;\">\n",
              "      <th></th>\n",
              "      <th>ID</th>\n",
              "      <th>start_date</th>\n",
              "      <th>age</th>\n",
              "      <th>gender</th>\n",
              "      <th>work_location</th>\n",
              "      <th>years_of_service</th>\n",
              "      <th>performance</th>\n",
              "      <th>performance_year</th>\n",
              "      <th>job_role</th>\n",
              "      <th>capacity_score</th>\n",
              "      <th>assessment_result</th>\n",
              "      <th>capacity_year</th>\n",
              "      <th>talent_score</th>\n",
              "      <th>talent_class</th>\n",
              "      <th>competency_score</th>\n",
              "    </tr>\n",
              "  </thead>\n",
              "  <tbody>\n",
              "    <tr>\n",
              "      <th>0</th>\n",
              "      <td>10001</td>\n",
              "      <td>2000-02-01</td>\n",
              "      <td>54</td>\n",
              "      <td>male</td>\n",
              "      <td>branch</td>\n",
              "      <td>24</td>\n",
              "      <td>4</td>\n",
              "      <td>2023</td>\n",
              "      <td>FINANCIAL</td>\n",
              "      <td>4</td>\n",
              "      <td>excellent</td>\n",
              "      <td>2023</td>\n",
              "      <td>4.0</td>\n",
              "      <td>top</td>\n",
              "      <td>3</td>\n",
              "    </tr>\n",
              "    <tr>\n",
              "      <th>1</th>\n",
              "      <td>10002</td>\n",
              "      <td>2000-08-04</td>\n",
              "      <td>54</td>\n",
              "      <td>female</td>\n",
              "      <td>branch</td>\n",
              "      <td>24</td>\n",
              "      <td>4</td>\n",
              "      <td>2023</td>\n",
              "      <td>FINANCIAL</td>\n",
              "      <td>4</td>\n",
              "      <td>excellent</td>\n",
              "      <td>2023</td>\n",
              "      <td>4.0</td>\n",
              "      <td>top</td>\n",
              "      <td>3</td>\n",
              "    </tr>\n",
              "    <tr>\n",
              "      <th>2</th>\n",
              "      <td>10003</td>\n",
              "      <td>2000-11-01</td>\n",
              "      <td>54</td>\n",
              "      <td>male</td>\n",
              "      <td>branch</td>\n",
              "      <td>23</td>\n",
              "      <td>4</td>\n",
              "      <td>2023</td>\n",
              "      <td>FINANCIAL</td>\n",
              "      <td>4</td>\n",
              "      <td>excellent</td>\n",
              "      <td>2023</td>\n",
              "      <td>4.0</td>\n",
              "      <td>top</td>\n",
              "      <td>3</td>\n",
              "    </tr>\n",
              "    <tr>\n",
              "      <th>3</th>\n",
              "      <td>10004</td>\n",
              "      <td>2006-01-01</td>\n",
              "      <td>54</td>\n",
              "      <td>male</td>\n",
              "      <td>branch</td>\n",
              "      <td>18</td>\n",
              "      <td>4</td>\n",
              "      <td>2023</td>\n",
              "      <td>FINANCIAL</td>\n",
              "      <td>4</td>\n",
              "      <td>excellent</td>\n",
              "      <td>2023</td>\n",
              "      <td>4.0</td>\n",
              "      <td>top</td>\n",
              "      <td>3</td>\n",
              "    </tr>\n",
              "    <tr>\n",
              "      <th>4</th>\n",
              "      <td>10005</td>\n",
              "      <td>2005-01-01</td>\n",
              "      <td>54</td>\n",
              "      <td>male</td>\n",
              "      <td>branch</td>\n",
              "      <td>19</td>\n",
              "      <td>4</td>\n",
              "      <td>2023</td>\n",
              "      <td>FINANCIAL</td>\n",
              "      <td>4</td>\n",
              "      <td>excellent</td>\n",
              "      <td>2023</td>\n",
              "      <td>4.0</td>\n",
              "      <td>top</td>\n",
              "      <td>3</td>\n",
              "    </tr>\n",
              "  </tbody>\n",
              "</table>\n",
              "</div>\n",
              "    <div class=\"colab-df-buttons\">\n",
              "\n",
              "  <div class=\"colab-df-container\">\n",
              "    <button class=\"colab-df-convert\" onclick=\"convertToInteractive('df-35552449-e50f-4c73-a1eb-4753d5c46217')\"\n",
              "            title=\"Convert this dataframe to an interactive table.\"\n",
              "            style=\"display:none;\">\n",
              "\n",
              "  <svg xmlns=\"http://www.w3.org/2000/svg\" height=\"24px\" viewBox=\"0 -960 960 960\">\n",
              "    <path d=\"M120-120v-720h720v720H120Zm60-500h600v-160H180v160Zm220 220h160v-160H400v160Zm0 220h160v-160H400v160ZM180-400h160v-160H180v160Zm440 0h160v-160H620v160ZM180-180h160v-160H180v160Zm440 0h160v-160H620v160Z\"/>\n",
              "  </svg>\n",
              "    </button>\n",
              "\n",
              "  <style>\n",
              "    .colab-df-container {\n",
              "      display:flex;\n",
              "      gap: 12px;\n",
              "    }\n",
              "\n",
              "    .colab-df-convert {\n",
              "      background-color: #E8F0FE;\n",
              "      border: none;\n",
              "      border-radius: 50%;\n",
              "      cursor: pointer;\n",
              "      display: none;\n",
              "      fill: #1967D2;\n",
              "      height: 32px;\n",
              "      padding: 0 0 0 0;\n",
              "      width: 32px;\n",
              "    }\n",
              "\n",
              "    .colab-df-convert:hover {\n",
              "      background-color: #E2EBFA;\n",
              "      box-shadow: 0px 1px 2px rgba(60, 64, 67, 0.3), 0px 1px 3px 1px rgba(60, 64, 67, 0.15);\n",
              "      fill: #174EA6;\n",
              "    }\n",
              "\n",
              "    .colab-df-buttons div {\n",
              "      margin-bottom: 4px;\n",
              "    }\n",
              "\n",
              "    [theme=dark] .colab-df-convert {\n",
              "      background-color: #3B4455;\n",
              "      fill: #D2E3FC;\n",
              "    }\n",
              "\n",
              "    [theme=dark] .colab-df-convert:hover {\n",
              "      background-color: #434B5C;\n",
              "      box-shadow: 0px 1px 3px 1px rgba(0, 0, 0, 0.15);\n",
              "      filter: drop-shadow(0px 1px 2px rgba(0, 0, 0, 0.3));\n",
              "      fill: #FFFFFF;\n",
              "    }\n",
              "  </style>\n",
              "\n",
              "    <script>\n",
              "      const buttonEl =\n",
              "        document.querySelector('#df-35552449-e50f-4c73-a1eb-4753d5c46217 button.colab-df-convert');\n",
              "      buttonEl.style.display =\n",
              "        google.colab.kernel.accessAllowed ? 'block' : 'none';\n",
              "\n",
              "      async function convertToInteractive(key) {\n",
              "        const element = document.querySelector('#df-35552449-e50f-4c73-a1eb-4753d5c46217');\n",
              "        const dataTable =\n",
              "          await google.colab.kernel.invokeFunction('convertToInteractive',\n",
              "                                                    [key], {});\n",
              "        if (!dataTable) return;\n",
              "\n",
              "        const docLinkHtml = 'Like what you see? Visit the ' +\n",
              "          '<a target=\"_blank\" href=https://colab.research.google.com/notebooks/data_table.ipynb>data table notebook</a>'\n",
              "          + ' to learn more about interactive tables.';\n",
              "        element.innerHTML = '';\n",
              "        dataTable['output_type'] = 'display_data';\n",
              "        await google.colab.output.renderOutput(dataTable, element);\n",
              "        const docLink = document.createElement('div');\n",
              "        docLink.innerHTML = docLinkHtml;\n",
              "        element.appendChild(docLink);\n",
              "      }\n",
              "    </script>\n",
              "  </div>\n",
              "\n",
              "\n",
              "<div id=\"df-1a1a239a-48e8-44a6-801c-fdcd024516c9\">\n",
              "  <button class=\"colab-df-quickchart\" onclick=\"quickchart('df-1a1a239a-48e8-44a6-801c-fdcd024516c9')\"\n",
              "            title=\"Suggest charts\"\n",
              "            style=\"display:none;\">\n",
              "\n",
              "<svg xmlns=\"http://www.w3.org/2000/svg\" height=\"24px\"viewBox=\"0 0 24 24\"\n",
              "     width=\"24px\">\n",
              "    <g>\n",
              "        <path d=\"M19 3H5c-1.1 0-2 .9-2 2v14c0 1.1.9 2 2 2h14c1.1 0 2-.9 2-2V5c0-1.1-.9-2-2-2zM9 17H7v-7h2v7zm4 0h-2V7h2v10zm4 0h-2v-4h2v4z\"/>\n",
              "    </g>\n",
              "</svg>\n",
              "  </button>\n",
              "\n",
              "<style>\n",
              "  .colab-df-quickchart {\n",
              "      --bg-color: #E8F0FE;\n",
              "      --fill-color: #1967D2;\n",
              "      --hover-bg-color: #E2EBFA;\n",
              "      --hover-fill-color: #174EA6;\n",
              "      --disabled-fill-color: #AAA;\n",
              "      --disabled-bg-color: #DDD;\n",
              "  }\n",
              "\n",
              "  [theme=dark] .colab-df-quickchart {\n",
              "      --bg-color: #3B4455;\n",
              "      --fill-color: #D2E3FC;\n",
              "      --hover-bg-color: #434B5C;\n",
              "      --hover-fill-color: #FFFFFF;\n",
              "      --disabled-bg-color: #3B4455;\n",
              "      --disabled-fill-color: #666;\n",
              "  }\n",
              "\n",
              "  .colab-df-quickchart {\n",
              "    background-color: var(--bg-color);\n",
              "    border: none;\n",
              "    border-radius: 50%;\n",
              "    cursor: pointer;\n",
              "    display: none;\n",
              "    fill: var(--fill-color);\n",
              "    height: 32px;\n",
              "    padding: 0;\n",
              "    width: 32px;\n",
              "  }\n",
              "\n",
              "  .colab-df-quickchart:hover {\n",
              "    background-color: var(--hover-bg-color);\n",
              "    box-shadow: 0 1px 2px rgba(60, 64, 67, 0.3), 0 1px 3px 1px rgba(60, 64, 67, 0.15);\n",
              "    fill: var(--button-hover-fill-color);\n",
              "  }\n",
              "\n",
              "  .colab-df-quickchart-complete:disabled,\n",
              "  .colab-df-quickchart-complete:disabled:hover {\n",
              "    background-color: var(--disabled-bg-color);\n",
              "    fill: var(--disabled-fill-color);\n",
              "    box-shadow: none;\n",
              "  }\n",
              "\n",
              "  .colab-df-spinner {\n",
              "    border: 2px solid var(--fill-color);\n",
              "    border-color: transparent;\n",
              "    border-bottom-color: var(--fill-color);\n",
              "    animation:\n",
              "      spin 1s steps(1) infinite;\n",
              "  }\n",
              "\n",
              "  @keyframes spin {\n",
              "    0% {\n",
              "      border-color: transparent;\n",
              "      border-bottom-color: var(--fill-color);\n",
              "      border-left-color: var(--fill-color);\n",
              "    }\n",
              "    20% {\n",
              "      border-color: transparent;\n",
              "      border-left-color: var(--fill-color);\n",
              "      border-top-color: var(--fill-color);\n",
              "    }\n",
              "    30% {\n",
              "      border-color: transparent;\n",
              "      border-left-color: var(--fill-color);\n",
              "      border-top-color: var(--fill-color);\n",
              "      border-right-color: var(--fill-color);\n",
              "    }\n",
              "    40% {\n",
              "      border-color: transparent;\n",
              "      border-right-color: var(--fill-color);\n",
              "      border-top-color: var(--fill-color);\n",
              "    }\n",
              "    60% {\n",
              "      border-color: transparent;\n",
              "      border-right-color: var(--fill-color);\n",
              "    }\n",
              "    80% {\n",
              "      border-color: transparent;\n",
              "      border-right-color: var(--fill-color);\n",
              "      border-bottom-color: var(--fill-color);\n",
              "    }\n",
              "    90% {\n",
              "      border-color: transparent;\n",
              "      border-bottom-color: var(--fill-color);\n",
              "    }\n",
              "  }\n",
              "</style>\n",
              "\n",
              "  <script>\n",
              "    async function quickchart(key) {\n",
              "      const quickchartButtonEl =\n",
              "        document.querySelector('#' + key + ' button');\n",
              "      quickchartButtonEl.disabled = true;  // To prevent multiple clicks.\n",
              "      quickchartButtonEl.classList.add('colab-df-spinner');\n",
              "      try {\n",
              "        const charts = await google.colab.kernel.invokeFunction(\n",
              "            'suggestCharts', [key], {});\n",
              "      } catch (error) {\n",
              "        console.error('Error during call to suggestCharts:', error);\n",
              "      }\n",
              "      quickchartButtonEl.classList.remove('colab-df-spinner');\n",
              "      quickchartButtonEl.classList.add('colab-df-quickchart-complete');\n",
              "    }\n",
              "    (() => {\n",
              "      let quickchartButtonEl =\n",
              "        document.querySelector('#df-1a1a239a-48e8-44a6-801c-fdcd024516c9 button');\n",
              "      quickchartButtonEl.style.display =\n",
              "        google.colab.kernel.accessAllowed ? 'block' : 'none';\n",
              "    })();\n",
              "  </script>\n",
              "</div>\n",
              "\n",
              "    </div>\n",
              "  </div>\n"
            ],
            "application/vnd.google.colaboratory.intrinsic+json": {
              "type": "dataframe",
              "variable_name": "df_merge",
              "summary": "{\n  \"name\": \"df_merge\",\n  \"rows\": 1584,\n  \"fields\": [\n    {\n      \"column\": \"ID\",\n      \"properties\": {\n        \"dtype\": \"string\",\n        \"num_unique_values\": 1584,\n        \"samples\": [\n          \"10469\",\n          \"10333\",\n          \"11435\"\n        ],\n        \"semantic_type\": \"\",\n        \"description\": \"\"\n      }\n    },\n    {\n      \"column\": \"start_date\",\n      \"properties\": {\n        \"dtype\": \"date\",\n        \"min\": \"1990-09-02 00:00:00\",\n        \"max\": \"2019-08-08 00:00:00\",\n        \"num_unique_values\": 322,\n        \"samples\": [\n          \"2015-07-13 00:00:00\",\n          \"2013-10-22 00:00:00\",\n          \"2016-02-03 00:00:00\"\n        ],\n        \"semantic_type\": \"\",\n        \"description\": \"\"\n      }\n    },\n    {\n      \"column\": \"age\",\n      \"properties\": {\n        \"dtype\": \"number\",\n        \"std\": 7,\n        \"min\": 24,\n        \"max\": 56,\n        \"num_unique_values\": 33,\n        \"samples\": [\n          24,\n          55,\n          31\n        ],\n        \"semantic_type\": \"\",\n        \"description\": \"\"\n      }\n    },\n    {\n      \"column\": \"gender\",\n      \"properties\": {\n        \"dtype\": \"category\",\n        \"num_unique_values\": 2,\n        \"samples\": [\n          \"female\",\n          \"male\"\n        ],\n        \"semantic_type\": \"\",\n        \"description\": \"\"\n      }\n    },\n    {\n      \"column\": \"work_location\",\n      \"properties\": {\n        \"dtype\": \"category\",\n        \"num_unique_values\": 2,\n        \"samples\": [\n          \"headquarter\",\n          \"branch\"\n        ],\n        \"semantic_type\": \"\",\n        \"description\": \"\"\n      }\n    },\n    {\n      \"column\": \"years_of_service\",\n      \"properties\": {\n        \"dtype\": \"number\",\n        \"std\": 6,\n        \"min\": 5,\n        \"max\": 33,\n        \"num_unique_values\": 29,\n        \"samples\": [\n          26,\n          8\n        ],\n        \"semantic_type\": \"\",\n        \"description\": \"\"\n      }\n    },\n    {\n      \"column\": \"performance\",\n      \"properties\": {\n        \"dtype\": \"number\",\n        \"std\": 0,\n        \"min\": 1,\n        \"max\": 5,\n        \"num_unique_values\": 5,\n        \"samples\": [\n          3,\n          5\n        ],\n        \"semantic_type\": \"\",\n        \"description\": \"\"\n      }\n    },\n    {\n      \"column\": \"performance_year\",\n      \"properties\": {\n        \"dtype\": \"number\",\n        \"std\": 0,\n        \"min\": 2023,\n        \"max\": 2023,\n        \"num_unique_values\": 1,\n        \"samples\": [\n          2023\n        ],\n        \"semantic_type\": \"\",\n        \"description\": \"\"\n      }\n    },\n    {\n      \"column\": \"job_role\",\n      \"properties\": {\n        \"dtype\": \"category\",\n        \"num_unique_values\": 5,\n        \"samples\": [\n          \"OPERATIONAL\"\n        ],\n        \"semantic_type\": \"\",\n        \"description\": \"\"\n      }\n    },\n    {\n      \"column\": \"capacity_score\",\n      \"properties\": {\n        \"dtype\": \"number\",\n        \"std\": 0,\n        \"min\": 1,\n        \"max\": 5,\n        \"num_unique_values\": 5,\n        \"samples\": [\n          5\n        ],\n        \"semantic_type\": \"\",\n        \"description\": \"\"\n      }\n    },\n    {\n      \"column\": \"assessment_result\",\n      \"properties\": {\n        \"dtype\": \"category\",\n        \"num_unique_values\": 3,\n        \"samples\": [\n          \"excellent\"\n        ],\n        \"semantic_type\": \"\",\n        \"description\": \"\"\n      }\n    },\n    {\n      \"column\": \"capacity_year\",\n      \"properties\": {\n        \"dtype\": \"number\",\n        \"std\": 0,\n        \"min\": 2023,\n        \"max\": 2023,\n        \"num_unique_values\": 1,\n        \"samples\": [\n          2023\n        ],\n        \"semantic_type\": \"\",\n        \"description\": \"\"\n      }\n    },\n    {\n      \"column\": \"talent_score\",\n      \"properties\": {\n        \"dtype\": \"number\",\n        \"std\": 0.7130768955617821,\n        \"min\": 1.0,\n        \"max\": 5.0,\n        \"num_unique_values\": 9,\n        \"samples\": [\n          5.0\n        ],\n        \"semantic_type\": \"\",\n        \"description\": \"\"\n      }\n    },\n    {\n      \"column\": \"talent_class\",\n      \"properties\": {\n        \"dtype\": \"category\",\n        \"num_unique_values\": 3,\n        \"samples\": [\n          \"top\"\n        ],\n        \"semantic_type\": \"\",\n        \"description\": \"\"\n      }\n    },\n    {\n      \"column\": \"competency_score\",\n      \"properties\": {\n        \"dtype\": \"number\",\n        \"std\": 0,\n        \"min\": 1,\n        \"max\": 3,\n        \"num_unique_values\": 3,\n        \"samples\": [\n          3\n        ],\n        \"semantic_type\": \"\",\n        \"description\": \"\"\n      }\n    }\n  ]\n}"
            }
          },
          "metadata": {},
          "execution_count": 8
        }
      ],
      "source": [
        "# additional variables #1\n",
        "df_merge['talent_score'] = (df_merge['performance'] + df_merge['capacity_score'])/2\n",
        "\n",
        "# aggregation\n",
        "score_max = df_merge['talent_score'].max()\n",
        "score_min = df_merge['talent_score'].min()\n",
        "class_range = score_max / 3\n",
        "\n",
        "# additional variables (list comprehension) #2\n",
        "df_merge['talent_class'] = ['low' if x <= class_range else 'mid' if x <= class_range*2 else 'top' for x in df_merge['talent_score']]\n",
        "df_merge['competency_score'] = [1 if x == 'poor' else 2 if x == 'fair' else 3 for x in df_merge['assessment_result']]\n",
        "# df_merge['gender_code'] = [1 if x == 'male' else 2 for x in df_merge['gender']]\n",
        "\n",
        "df_merge.head()"
      ]
    },
    {
      "cell_type": "markdown",
      "metadata": {
        "id": "A5UIO9V2UJrG"
      },
      "source": [
        "## Data Correlation Analysis"
      ]
    },
    {
      "cell_type": "code",
      "source": [
        "# checking connection between variables\n",
        "df_var = df_merge[['age', 'years_of_service', 'performance', 'capacity_score', 'talent_score', 'competency_score']]\n",
        "\n",
        "f, ax = plt.subplots(figsize=(10, 7))\n",
        "corr = df_var.corr()\n",
        "hm = sns.heatmap(round(corr,2), annot=True, ax=ax, cmap=\"coolwarm\", fmt='.2f', vmin=-1, vmax=1)\n",
        "f.subplots_adjust(top=0.83)\n",
        "t= f.suptitle('Dataset Correlation Heatmap', fontsize=14)"
      ],
      "metadata": {
        "colab": {
          "base_uri": "https://localhost:8080/",
          "height": 785
        },
        "id": "yE9gxYhfPhDD",
        "outputId": "265eb0d6-05f3-4a13-887e-b8e8db8e5f2a"
      },
      "execution_count": 9,
      "outputs": [
        {
          "output_type": "display_data",
          "data": {
            "text/plain": [
              "<Figure size 1000x700 with 2 Axes>"
            ],
            "image/png": "[encoded data removed]"
          },
          "metadata": {}
        }
      ]
    },
    {
      "cell_type": "markdown",
      "source": [
        "**Summary of Relationships :**\n",
        "* `performance` and `talent_score` are strongly correlated (0.95), indicating they measure similar aspects.\n",
        "* `capacity_score` and `talent_score` are also highly correlated (0.96), suggesting a close relationship.\n",
        "* `age` and `years_of_service` are moderately correlated (0.63), as expected due to longer service with age.\n",
        "* `competency_score` shows moderate correlations with `performance` (0.64), `capacity_score` (0.80), and `talent_score` (0.75), indicating it is reasonably related to these metrics."
      ],
      "metadata": {
        "id": "N7wTRYd0XDDD"
      }
    },
    {
      "cell_type": "code",
      "source": [
        "# # pairplots of correlated variables #1\n",
        "# df_merge_pp = df_merge[['competency_score','performance']]\n",
        "# sns.pairplot(df_merge_pp)"
      ],
      "metadata": {
        "id": "Zqy7h37Ug6E1"
      },
      "execution_count": 30,
      "outputs": []
    },
    {
      "cell_type": "code",
      "source": [
        "# # pairplots of correlated variables #2\n",
        "# df_merge_pp = df_merge[['competency_score','capacity_score']].copy()\n",
        "# sns.pairplot(df_merge_pp)"
      ],
      "metadata": {
        "id": "LGXyVlttfmil"
      },
      "execution_count": 29,
      "outputs": []
    },
    {
      "cell_type": "code",
      "source": [
        "# # univariate plots\n",
        "# df_var.hist(bins=15, linewidth=1.0, xlabelsize=8, ylabelsize=8, grid=False, edgecolor='white')\n",
        "# plt.tight_layout(rect=(0,0,2,2))"
      ],
      "metadata": {
        "id": "XmYF6USOkqtb"
      },
      "execution_count": 28,
      "outputs": []
    },
    {
      "cell_type": "markdown",
      "source": [
        "## Exploratory Data Analysis"
      ],
      "metadata": {
        "id": "PXG1pDQpid7a"
      }
    },
    {
      "cell_type": "markdown",
      "source": [
        "### 1. Talent Class Trends Within Company\n",
        "\n",
        "**Problem Identification:** Investigate how the distribution of employees across different talent classes (e.g., top, middle, low). This can help developing and retaining top talent."
      ],
      "metadata": {
        "id": "2pms4f75MlJZ"
      }
    },
    {
      "cell_type": "code",
      "source": [
        "# the number of employees in each talent class - visualization\n",
        "\n",
        "# Count the occurrences of each talent class\n",
        "empl_count = df_merge['talent_class'].value_counts()\n",
        "tale_class = empl_count.index # Extract labels from the value counts\n",
        "\n",
        "# Create an explode tuple with the same length as the number of talent classes\n",
        "explode = (0.05,) * len(empl_count)\n",
        "\n",
        "plt.figure(figsize=(6,6))\n",
        "plt.pie(\n",
        "    empl_count,\n",
        "    labels=tale_class,\n",
        "    autopct=lambda p: f'{p:.1f}%',\n",
        "    startangle=205,\n",
        "    colors=['#FF6B6B', '#007BFF', '#4CAF50'],\n",
        "    labeldistance=1.05,\n",
        "    explode=explode, # Use the dynamically created explode tuple\n",
        "    textprops={'fontsize': 10}\n",
        ")\n",
        "\n",
        "plt.title(\"Talent Class Trends Within Company\", fontsize=14, weight= 'bold')\n",
        "plt.show()"
      ],
      "metadata": {
        "colab": {
          "base_uri": "https://localhost:8080/",
          "height": 522
        },
        "id": "WvCwtDGPNdHZ",
        "outputId": "b65720a4-89a1-457f-f0fd-7eb47e7b1fb9"
      },
      "execution_count": 34,
      "outputs": [
        {
          "output_type": "display_data",
          "data": {
            "text/plain": [
              "<Figure size 600x600 with 1 Axes>"
            ],
            "image/png": "[encoded data removed]"
          },
          "metadata": {}
        }
      ]
    },
    {
      "cell_type": "markdown",
      "source": [
        "**Recommendations:**\n",
        "* **Talent Criteria Review:** Regularly review and update the criteria used to classify talent to ensure they are aligned with the company's goals and performance standards.\n",
        "* **Mid-Talent Development:** Implement targeted development programs for mid-talent employees to help them advance to the top talent category.\n",
        "* **Support for Low Talent:** Conduct individual assessments of low-talent employees to identify specific issues and develop personalized improvement plans."
      ],
      "metadata": {
        "id": "gKiwjfXrVmLu"
      }
    },
    {
      "cell_type": "markdown",
      "source": [
        "### 2. Performance and Capacity Alignment\n",
        "\n",
        "**Problem Identification:** Assess whether there is alignment between employee performance scores and capacity scores. Misalignment could indicate issues in role suitability or training needs."
      ],
      "metadata": {
        "id": "pG7H6YUiRbfK"
      }
    },
    {
      "cell_type": "code",
      "source": [
        "print('Correlations with Performance:\\n')\n",
        "df_var[df_var.columns[0:]].corr()['performance'][:].to_frame().sort_values(by=['performance'],ascending=False).round(2)"
      ],
      "metadata": {
        "id": "bnt-b8Z8mCyJ",
        "colab": {
          "base_uri": "https://localhost:8080/",
          "height": 272
        },
        "outputId": "5e631a3c-f3a8-4cee-ce64-2a64585c21ce"
      },
      "execution_count": 13,
      "outputs": [
        {
          "output_type": "stream",
          "name": "stdout",
          "text": [
            "Correlations with Performance:\n",
            "\n"
          ]
        },
        {
          "output_type": "execute_result",
          "data": {
            "text/plain": [
              "                  performance\n",
              "performance              1.00\n",
              "talent_score             0.95\n",
              "capacity_score           0.83\n",
              "competency_score         0.64\n",
              "age                     -0.01\n",
              "years_of_service        -0.17"
            ],
            "text/html": [
              "\n",
              "  <div id=\"df-2adf8fcf-0b55-49cf-bb72-91d475f0f96d\" class=\"colab-df-container\">\n",
              "    <div>\n",
              "<style scoped>\n",
              "    .dataframe tbody tr th:only-of-type {\n",
              "        vertical-align: middle;\n",
              "    }\n",
              "\n",
              "    .dataframe tbody tr th {\n",
              "        vertical-align: top;\n",
              "    }\n",
              "\n",
              "    .dataframe thead th {\n",
              "        text-align: right;\n",
              "    }\n",
              "</style>\n",
              "<table border=\"1\" class=\"dataframe\">\n",
              "  <thead>\n",
              "    <tr style=\"text-align: right;\">\n",
              "      <th></th>\n",
              "      <th>performance</th>\n",
              "    </tr>\n",
              "  </thead>\n",
              "  <tbody>\n",
              "    <tr>\n",
              "      <th>performance</th>\n",
              "      <td>1.00</td>\n",
              "    </tr>\n",
              "    <tr>\n",
              "      <th>talent_score</th>\n",
              "      <td>0.95</td>\n",
              "    </tr>\n",
              "    <tr>\n",
              "      <th>capacity_score</th>\n",
              "      <td>0.83</td>\n",
              "    </tr>\n",
              "    <tr>\n",
              "      <th>competency_score</th>\n",
              "      <td>0.64</td>\n",
              "    </tr>\n",
              "    <tr>\n",
              "      <th>age</th>\n",
              "      <td>-0.01</td>\n",
              "    </tr>\n",
              "    <tr>\n",
              "      <th>years_of_service</th>\n",
              "      <td>-0.17</td>\n",
              "    </tr>\n",
              "  </tbody>\n",
              "</table>\n",
              "</div>\n",
              "    <div class=\"colab-df-buttons\">\n",
              "\n",
              "  <div class=\"colab-df-container\">\n",
              "    <button class=\"colab-df-convert\" onclick=\"convertToInteractive('df-2adf8fcf-0b55-49cf-bb72-91d475f0f96d')\"\n",
              "            title=\"Convert this dataframe to an interactive table.\"\n",
              "            style=\"display:none;\">\n",
              "\n",
              "  <svg xmlns=\"http://www.w3.org/2000/svg\" height=\"24px\" viewBox=\"0 -960 960 960\">\n",
              "    <path d=\"M120-120v-720h720v720H120Zm60-500h600v-160H180v160Zm220 220h160v-160H400v160Zm0 220h160v-160H400v160ZM180-400h160v-160H180v160Zm440 0h160v-160H620v160ZM180-180h160v-160H180v160Zm440 0h160v-160H620v160Z\"/>\n",
              "  </svg>\n",
              "    </button>\n",
              "\n",
              "  <style>\n",
              "    .colab-df-container {\n",
              "      display:flex;\n",
              "      gap: 12px;\n",
              "    }\n",
              "\n",
              "    .colab-df-convert {\n",
              "      background-color: #E8F0FE;\n",
              "      border: none;\n",
              "      border-radius: 50%;\n",
              "      cursor: pointer;\n",
              "      display: none;\n",
              "      fill: #1967D2;\n",
              "      height: 32px;\n",
              "      padding: 0 0 0 0;\n",
              "      width: 32px;\n",
              "    }\n",
              "\n",
              "    .colab-df-convert:hover {\n",
              "      background-color: #E2EBFA;\n",
              "      box-shadow: 0px 1px 2px rgba(60, 64, 67, 0.3), 0px 1px 3px 1px rgba(60, 64, 67, 0.15);\n",
              "      fill: #174EA6;\n",
              "    }\n",
              "\n",
              "    .colab-df-buttons div {\n",
              "      margin-bottom: 4px;\n",
              "    }\n",
              "\n",
              "    [theme=dark] .colab-df-convert {\n",
              "      background-color: #3B4455;\n",
              "      fill: #D2E3FC;\n",
              "    }\n",
              "\n",
              "    [theme=dark] .colab-df-convert:hover {\n",
              "      background-color: #434B5C;\n",
              "      box-shadow: 0px 1px 3px 1px rgba(0, 0, 0, 0.15);\n",
              "      filter: drop-shadow(0px 1px 2px rgba(0, 0, 0, 0.3));\n",
              "      fill: #FFFFFF;\n",
              "    }\n",
              "  </style>\n",
              "\n",
              "    <script>\n",
              "      const buttonEl =\n",
              "        document.querySelector('#df-2adf8fcf-0b55-49cf-bb72-91d475f0f96d button.colab-df-convert');\n",
              "      buttonEl.style.display =\n",
              "        google.colab.kernel.accessAllowed ? 'block' : 'none';\n",
              "\n",
              "      async function convertToInteractive(key) {\n",
              "        const element = document.querySelector('#df-2adf8fcf-0b55-49cf-bb72-91d475f0f96d');\n",
              "        const dataTable =\n",
              "          await google.colab.kernel.invokeFunction('convertToInteractive',\n",
              "                                                    [key], {});\n",
              "        if (!dataTable) return;\n",
              "\n",
              "        const docLinkHtml = 'Like what you see? Visit the ' +\n",
              "          '<a target=\"_blank\" href=https://colab.research.google.com/notebooks/data_table.ipynb>data table notebook</a>'\n",
              "          + ' to learn more about interactive tables.';\n",
              "        element.innerHTML = '';\n",
              "        dataTable['output_type'] = 'display_data';\n",
              "        await google.colab.output.renderOutput(dataTable, element);\n",
              "        const docLink = document.createElement('div');\n",
              "        docLink.innerHTML = docLinkHtml;\n",
              "        element.appendChild(docLink);\n",
              "      }\n",
              "    </script>\n",
              "  </div>\n",
              "\n",
              "\n",
              "<div id=\"df-9ac8a5b1-366e-42c4-a254-cc33d723c31d\">\n",
              "  <button class=\"colab-df-quickchart\" onclick=\"quickchart('df-9ac8a5b1-366e-42c4-a254-cc33d723c31d')\"\n",
              "            title=\"Suggest charts\"\n",
              "            style=\"display:none;\">\n",
              "\n",
              "<svg xmlns=\"http://www.w3.org/2000/svg\" height=\"24px\"viewBox=\"0 0 24 24\"\n",
              "     width=\"24px\">\n",
              "    <g>\n",
              "        <path d=\"M19 3H5c-1.1 0-2 .9-2 2v14c0 1.1.9 2 2 2h14c1.1 0 2-.9 2-2V5c0-1.1-.9-2-2-2zM9 17H7v-7h2v7zm4 0h-2V7h2v10zm4 0h-2v-4h2v4z\"/>\n",
              "    </g>\n",
              "</svg>\n",
              "  </button>\n",
              "\n",
              "<style>\n",
              "  .colab-df-quickchart {\n",
              "      --bg-color: #E8F0FE;\n",
              "      --fill-color: #1967D2;\n",
              "      --hover-bg-color: #E2EBFA;\n",
              "      --hover-fill-color: #174EA6;\n",
              "      --disabled-fill-color: #AAA;\n",
              "      --disabled-bg-color: #DDD;\n",
              "  }\n",
              "\n",
              "  [theme=dark] .colab-df-quickchart {\n",
              "      --bg-color: #3B4455;\n",
              "      --fill-color: #D2E3FC;\n",
              "      --hover-bg-color: #434B5C;\n",
              "      --hover-fill-color: #FFFFFF;\n",
              "      --disabled-bg-color: #3B4455;\n",
              "      --disabled-fill-color: #666;\n",
              "  }\n",
              "\n",
              "  .colab-df-quickchart {\n",
              "    background-color: var(--bg-color);\n",
              "    border: none;\n",
              "    border-radius: 50%;\n",
              "    cursor: pointer;\n",
              "    display: none;\n",
              "    fill: var(--fill-color);\n",
              "    height: 32px;\n",
              "    padding: 0;\n",
              "    width: 32px;\n",
              "  }\n",
              "\n",
              "  .colab-df-quickchart:hover {\n",
              "    background-color: var(--hover-bg-color);\n",
              "    box-shadow: 0 1px 2px rgba(60, 64, 67, 0.3), 0 1px 3px 1px rgba(60, 64, 67, 0.15);\n",
              "    fill: var(--button-hover-fill-color);\n",
              "  }\n",
              "\n",
              "  .colab-df-quickchart-complete:disabled,\n",
              "  .colab-df-quickchart-complete:disabled:hover {\n",
              "    background-color: var(--disabled-bg-color);\n",
              "    fill: var(--disabled-fill-color);\n",
              "    box-shadow: none;\n",
              "  }\n",
              "\n",
              "  .colab-df-spinner {\n",
              "    border: 2px solid var(--fill-color);\n",
              "    border-color: transparent;\n",
              "    border-bottom-color: var(--fill-color);\n",
              "    animation:\n",
              "      spin 1s steps(1) infinite;\n",
              "  }\n",
              "\n",
              "  @keyframes spin {\n",
              "    0% {\n",
              "      border-color: transparent;\n",
              "      border-bottom-color: var(--fill-color);\n",
              "      border-left-color: var(--fill-color);\n",
              "    }\n",
              "    20% {\n",
              "      border-color: transparent;\n",
              "      border-left-color: var(--fill-color);\n",
              "      border-top-color: var(--fill-color);\n",
              "    }\n",
              "    30% {\n",
              "      border-color: transparent;\n",
              "      border-left-color: var(--fill-color);\n",
              "      border-top-color: var(--fill-color);\n",
              "      border-right-color: var(--fill-color);\n",
              "    }\n",
              "    40% {\n",
              "      border-color: transparent;\n",
              "      border-right-color: var(--fill-color);\n",
              "      border-top-color: var(--fill-color);\n",
              "    }\n",
              "    60% {\n",
              "      border-color: transparent;\n",
              "      border-right-color: var(--fill-color);\n",
              "    }\n",
              "    80% {\n",
              "      border-color: transparent;\n",
              "      border-right-color: var(--fill-color);\n",
              "      border-bottom-color: var(--fill-color);\n",
              "    }\n",
              "    90% {\n",
              "      border-color: transparent;\n",
              "      border-bottom-color: var(--fill-color);\n",
              "    }\n",
              "  }\n",
              "</style>\n",
              "\n",
              "  <script>\n",
              "    async function quickchart(key) {\n",
              "      const quickchartButtonEl =\n",
              "        document.querySelector('#' + key + ' button');\n",
              "      quickchartButtonEl.disabled = true;  // To prevent multiple clicks.\n",
              "      quickchartButtonEl.classList.add('colab-df-spinner');\n",
              "      try {\n",
              "        const charts = await google.colab.kernel.invokeFunction(\n",
              "            'suggestCharts', [key], {});\n",
              "      } catch (error) {\n",
              "        console.error('Error during call to suggestCharts:', error);\n",
              "      }\n",
              "      quickchartButtonEl.classList.remove('colab-df-spinner');\n",
              "      quickchartButtonEl.classList.add('colab-df-quickchart-complete');\n",
              "    }\n",
              "    (() => {\n",
              "      let quickchartButtonEl =\n",
              "        document.querySelector('#df-9ac8a5b1-366e-42c4-a254-cc33d723c31d button');\n",
              "      quickchartButtonEl.style.display =\n",
              "        google.colab.kernel.accessAllowed ? 'block' : 'none';\n",
              "    })();\n",
              "  </script>\n",
              "</div>\n",
              "\n",
              "    </div>\n",
              "  </div>\n"
            ],
            "application/vnd.google.colaboratory.intrinsic+json": {
              "type": "dataframe",
              "summary": "{\n  \"name\": \"df_var[df_var\",\n  \"rows\": 6,\n  \"fields\": [\n    {\n      \"column\": \"performance\",\n      \"properties\": {\n        \"dtype\": \"number\",\n        \"std\": 0.5060434763930862,\n        \"min\": -0.17,\n        \"max\": 1.0,\n        \"num_unique_values\": 6,\n        \"samples\": [\n          1.0,\n          0.95,\n          -0.17\n        ],\n        \"semantic_type\": \"\",\n        \"description\": \"\"\n      }\n    }\n  ]\n}"
            }
          },
          "metadata": {},
          "execution_count": 13
        }
      ]
    },
    {
      "cell_type": "markdown",
      "source": [
        "**Conclusion:** There is strong alignment between performance and both talent and capacity scores, indicating that the company’s measures for these aspects are effective predictors of employee performance. This suggests that the company is on the right track in identifying and developing talent and capacity among its workforce."
      ],
      "metadata": {
        "id": "vzHBNXzjUcJm"
      }
    },
    {
      "cell_type": "markdown",
      "source": [
        "> **Actionable Insight:** The company should continue to invest in and refine its talent and capacity assessment processes, as these are clearly linked to high performance. Additionally, integrating competency development with these factors could further enhance overall employee performance."
      ],
      "metadata": {
        "id": "MhjIDvA2Uqz0"
      }
    },
    {
      "cell_type": "markdown",
      "source": [
        "### 3. Job Role on Talent Development\n",
        "**Problem Identification:** Evaluate how different job roles contribute to talent development and overall performance. This can guide the company in designing role-specific training and development programs."
      ],
      "metadata": {
        "id": "42nhMTkRbpqH"
      }
    },
    {
      "cell_type": "code",
      "source": [
        "# average performance score in each job role\n",
        "avg_perf = df_merge.groupby('job_role').agg(average_performance=('performance','mean')).sort_values(by='average_price', ascending=False).reset_index()\n",
        "avg_perf['average_performance'] = np.round(avg_perf['average_performance']).astype('int64')\n",
        "avg_perf"
      ],
      "metadata": {
        "colab": {
          "base_uri": "https://localhost:8080/",
          "height": 206
        },
        "id": "D3szV4vfbu5Q",
        "outputId": "7c502c2f-f467-435f-bff4-0240ee140c75"
      },
      "execution_count": 37,
      "outputs": [
        {
          "output_type": "execute_result",
          "data": {
            "text/plain": [
              "      job_role  average_performance\n",
              "0       PEOPLE                    4\n",
              "1   COMMERCIAL                    4\n",
              "2  OPERATIONAL                    4\n",
              "3    FINANCIAL                    4\n",
              "4   TECHNOLOGY                    3"
            ],
            "text/html": [
              "\n",
              "  <div id=\"df-8f81ce39-848e-4583-916a-9c0ab79aea49\" class=\"colab-df-container\">\n",
              "    <div>\n",
              "<style scoped>\n",
              "    .dataframe tbody tr th:only-of-type {\n",
              "        vertical-align: middle;\n",
              "    }\n",
              "\n",
              "    .dataframe tbody tr th {\n",
              "        vertical-align: top;\n",
              "    }\n",
              "\n",
              "    .dataframe thead th {\n",
              "        text-align: right;\n",
              "    }\n",
              "</style>\n",
              "<table border=\"1\" class=\"dataframe\">\n",
              "  <thead>\n",
              "    <tr style=\"text-align: right;\">\n",
              "      <th></th>\n",
              "      <th>job_role</th>\n",
              "      <th>average_performance</th>\n",
              "    </tr>\n",
              "  </thead>\n",
              "  <tbody>\n",
              "    <tr>\n",
              "      <th>0</th>\n",
              "      <td>PEOPLE</td>\n",
              "      <td>4</td>\n",
              "    </tr>\n",
              "    <tr>\n",
              "      <th>1</th>\n",
              "      <td>COMMERCIAL</td>\n",
              "      <td>4</td>\n",
              "    </tr>\n",
              "    <tr>\n",
              "      <th>2</th>\n",
              "      <td>OPERATIONAL</td>\n",
              "      <td>4</td>\n",
              "    </tr>\n",
              "    <tr>\n",
              "      <th>3</th>\n",
              "      <td>FINANCIAL</td>\n",
              "      <td>4</td>\n",
              "    </tr>\n",
              "    <tr>\n",
              "      <th>4</th>\n",
              "      <td>TECHNOLOGY</td>\n",
              "      <td>3</td>\n",
              "    </tr>\n",
              "  </tbody>\n",
              "</table>\n",
              "</div>\n",
              "    <div class=\"colab-df-buttons\">\n",
              "\n",
              "  <div class=\"colab-df-container\">\n",
              "    <button class=\"colab-df-convert\" onclick=\"convertToInteractive('df-8f81ce39-848e-4583-916a-9c0ab79aea49')\"\n",
              "            title=\"Convert this dataframe to an interactive table.\"\n",
              "            style=\"display:none;\">\n",
              "\n",
              "  <svg xmlns=\"http://www.w3.org/2000/svg\" height=\"24px\" viewBox=\"0 -960 960 960\">\n",
              "    <path d=\"M120-120v-720h720v720H120Zm60-500h600v-160H180v160Zm220 220h160v-160H400v160Zm0 220h160v-160H400v160ZM180-400h160v-160H180v160Zm440 0h160v-160H620v160ZM180-180h160v-160H180v160Zm440 0h160v-160H620v160Z\"/>\n",
              "  </svg>\n",
              "    </button>\n",
              "\n",
              "  <style>\n",
              "    .colab-df-container {\n",
              "      display:flex;\n",
              "      gap: 12px;\n",
              "    }\n",
              "\n",
              "    .colab-df-convert {\n",
              "      background-color: #E8F0FE;\n",
              "      border: none;\n",
              "      border-radius: 50%;\n",
              "      cursor: pointer;\n",
              "      display: none;\n",
              "      fill: #1967D2;\n",
              "      height: 32px;\n",
              "      padding: 0 0 0 0;\n",
              "      width: 32px;\n",
              "    }\n",
              "\n",
              "    .colab-df-convert:hover {\n",
              "      background-color: #E2EBFA;\n",
              "      box-shadow: 0px 1px 2px rgba(60, 64, 67, 0.3), 0px 1px 3px 1px rgba(60, 64, 67, 0.15);\n",
              "      fill: #174EA6;\n",
              "    }\n",
              "\n",
              "    .colab-df-buttons div {\n",
              "      margin-bottom: 4px;\n",
              "    }\n",
              "\n",
              "    [theme=dark] .colab-df-convert {\n",
              "      background-color: #3B4455;\n",
              "      fill: #D2E3FC;\n",
              "    }\n",
              "\n",
              "    [theme=dark] .colab-df-convert:hover {\n",
              "      background-color: #434B5C;\n",
              "      box-shadow: 0px 1px 3px 1px rgba(0, 0, 0, 0.15);\n",
              "      filter: drop-shadow(0px 1px 2px rgba(0, 0, 0, 0.3));\n",
              "      fill: #FFFFFF;\n",
              "    }\n",
              "  </style>\n",
              "\n",
              "    <script>\n",
              "      const buttonEl =\n",
              "        document.querySelector('#df-8f81ce39-848e-4583-916a-9c0ab79aea49 button.colab-df-convert');\n",
              "      buttonEl.style.display =\n",
              "        google.colab.kernel.accessAllowed ? 'block' : 'none';\n",
              "\n",
              "      async function convertToInteractive(key) {\n",
              "        const element = document.querySelector('#df-8f81ce39-848e-4583-916a-9c0ab79aea49');\n",
              "        const dataTable =\n",
              "          await google.colab.kernel.invokeFunction('convertToInteractive',\n",
              "                                                    [key], {});\n",
              "        if (!dataTable) return;\n",
              "\n",
              "        const docLinkHtml = 'Like what you see? Visit the ' +\n",
              "          '<a target=\"_blank\" href=https://colab.research.google.com/notebooks/data_table.ipynb>data table notebook</a>'\n",
              "          + ' to learn more about interactive tables.';\n",
              "        element.innerHTML = '';\n",
              "        dataTable['output_type'] = 'display_data';\n",
              "        await google.colab.output.renderOutput(dataTable, element);\n",
              "        const docLink = document.createElement('div');\n",
              "        docLink.innerHTML = docLinkHtml;\n",
              "        element.appendChild(docLink);\n",
              "      }\n",
              "    </script>\n",
              "  </div>\n",
              "\n",
              "\n",
              "<div id=\"df-2ec1b80b-4ab3-4bec-a15c-554e4bb363ab\">\n",
              "  <button class=\"colab-df-quickchart\" onclick=\"quickchart('df-2ec1b80b-4ab3-4bec-a15c-554e4bb363ab')\"\n",
              "            title=\"Suggest charts\"\n",
              "            style=\"display:none;\">\n",
              "\n",
              "<svg xmlns=\"http://www.w3.org/2000/svg\" height=\"24px\"viewBox=\"0 0 24 24\"\n",
              "     width=\"24px\">\n",
              "    <g>\n",
              "        <path d=\"M19 3H5c-1.1 0-2 .9-2 2v14c0 1.1.9 2 2 2h14c1.1 0 2-.9 2-2V5c0-1.1-.9-2-2-2zM9 17H7v-7h2v7zm4 0h-2V7h2v10zm4 0h-2v-4h2v4z\"/>\n",
              "    </g>\n",
              "</svg>\n",
              "  </button>\n",
              "\n",
              "<style>\n",
              "  .colab-df-quickchart {\n",
              "      --bg-color: #E8F0FE;\n",
              "      --fill-color: #1967D2;\n",
              "      --hover-bg-color: #E2EBFA;\n",
              "      --hover-fill-color: #174EA6;\n",
              "      --disabled-fill-color: #AAA;\n",
              "      --disabled-bg-color: #DDD;\n",
              "  }\n",
              "\n",
              "  [theme=dark] .colab-df-quickchart {\n",
              "      --bg-color: #3B4455;\n",
              "      --fill-color: #D2E3FC;\n",
              "      --hover-bg-color: #434B5C;\n",
              "      --hover-fill-color: #FFFFFF;\n",
              "      --disabled-bg-color: #3B4455;\n",
              "      --disabled-fill-color: #666;\n",
              "  }\n",
              "\n",
              "  .colab-df-quickchart {\n",
              "    background-color: var(--bg-color);\n",
              "    border: none;\n",
              "    border-radius: 50%;\n",
              "    cursor: pointer;\n",
              "    display: none;\n",
              "    fill: var(--fill-color);\n",
              "    height: 32px;\n",
              "    padding: 0;\n",
              "    width: 32px;\n",
              "  }\n",
              "\n",
              "  .colab-df-quickchart:hover {\n",
              "    background-color: var(--hover-bg-color);\n",
              "    box-shadow: 0 1px 2px rgba(60, 64, 67, 0.3), 0 1px 3px 1px rgba(60, 64, 67, 0.15);\n",
              "    fill: var(--button-hover-fill-color);\n",
              "  }\n",
              "\n",
              "  .colab-df-quickchart-complete:disabled,\n",
              "  .colab-df-quickchart-complete:disabled:hover {\n",
              "    background-color: var(--disabled-bg-color);\n",
              "    fill: var(--disabled-fill-color);\n",
              "    box-shadow: none;\n",
              "  }\n",
              "\n",
              "  .colab-df-spinner {\n",
              "    border: 2px solid var(--fill-color);\n",
              "    border-color: transparent;\n",
              "    border-bottom-color: var(--fill-color);\n",
              "    animation:\n",
              "      spin 1s steps(1) infinite;\n",
              "  }\n",
              "\n",
              "  @keyframes spin {\n",
              "    0% {\n",
              "      border-color: transparent;\n",
              "      border-bottom-color: var(--fill-color);\n",
              "      border-left-color: var(--fill-color);\n",
              "    }\n",
              "    20% {\n",
              "      border-color: transparent;\n",
              "      border-left-color: var(--fill-color);\n",
              "      border-top-color: var(--fill-color);\n",
              "    }\n",
              "    30% {\n",
              "      border-color: transparent;\n",
              "      border-left-color: var(--fill-color);\n",
              "      border-top-color: var(--fill-color);\n",
              "      border-right-color: var(--fill-color);\n",
              "    }\n",
              "    40% {\n",
              "      border-color: transparent;\n",
              "      border-right-color: var(--fill-color);\n",
              "      border-top-color: var(--fill-color);\n",
              "    }\n",
              "    60% {\n",
              "      border-color: transparent;\n",
              "      border-right-color: var(--fill-color);\n",
              "    }\n",
              "    80% {\n",
              "      border-color: transparent;\n",
              "      border-right-color: var(--fill-color);\n",
              "      border-bottom-color: var(--fill-color);\n",
              "    }\n",
              "    90% {\n",
              "      border-color: transparent;\n",
              "      border-bottom-color: var(--fill-color);\n",
              "    }\n",
              "  }\n",
              "</style>\n",
              "\n",
              "  <script>\n",
              "    async function quickchart(key) {\n",
              "      const quickchartButtonEl =\n",
              "        document.querySelector('#' + key + ' button');\n",
              "      quickchartButtonEl.disabled = true;  // To prevent multiple clicks.\n",
              "      quickchartButtonEl.classList.add('colab-df-spinner');\n",
              "      try {\n",
              "        const charts = await google.colab.kernel.invokeFunction(\n",
              "            'suggestCharts', [key], {});\n",
              "      } catch (error) {\n",
              "        console.error('Error during call to suggestCharts:', error);\n",
              "      }\n",
              "      quickchartButtonEl.classList.remove('colab-df-spinner');\n",
              "      quickchartButtonEl.classList.add('colab-df-quickchart-complete');\n",
              "    }\n",
              "    (() => {\n",
              "      let quickchartButtonEl =\n",
              "        document.querySelector('#df-2ec1b80b-4ab3-4bec-a15c-554e4bb363ab button');\n",
              "      quickchartButtonEl.style.display =\n",
              "        google.colab.kernel.accessAllowed ? 'block' : 'none';\n",
              "    })();\n",
              "  </script>\n",
              "</div>\n",
              "\n",
              "  <div id=\"id_0c60f22a-8538-43e6-893b-2da82251b4ce\">\n",
              "    <style>\n",
              "      .colab-df-generate {\n",
              "        background-color: #E8F0FE;\n",
              "        border: none;\n",
              "        border-radius: 50%;\n",
              "        cursor: pointer;\n",
              "        display: none;\n",
              "        fill: #1967D2;\n",
              "        height: 32px;\n",
              "        padding: 0 0 0 0;\n",
              "        width: 32px;\n",
              "      }\n",
              "\n",
              "      .colab-df-generate:hover {\n",
              "        background-color: #E2EBFA;\n",
              "        box-shadow: 0px 1px 2px rgba(60, 64, 67, 0.3), 0px 1px 3px 1px rgba(60, 64, 67, 0.15);\n",
              "        fill: #174EA6;\n",
              "      }\n",
              "\n",
              "      [theme=dark] .colab-df-generate {\n",
              "        background-color: #3B4455;\n",
              "        fill: #D2E3FC;\n",
              "      }\n",
              "\n",
              "      [theme=dark] .colab-df-generate:hover {\n",
              "        background-color: #434B5C;\n",
              "        box-shadow: 0px 1px 3px 1px rgba(0, 0, 0, 0.15);\n",
              "        filter: drop-shadow(0px 1px 2px rgba(0, 0, 0, 0.3));\n",
              "        fill: #FFFFFF;\n",
              "      }\n",
              "    </style>\n",
              "    <button class=\"colab-df-generate\" onclick=\"generateWithVariable('avg_perf')\"\n",
              "            title=\"Generate code using this dataframe.\"\n",
              "            style=\"display:none;\">\n",
              "\n",
              "  <svg xmlns=\"http://www.w3.org/2000/svg\" height=\"24px\"viewBox=\"0 0 24 24\"\n",
              "       width=\"24px\">\n",
              "    <path d=\"M7,19H8.4L18.45,9,17,7.55,7,17.6ZM5,21V16.75L18.45,3.32a2,2,0,0,1,2.83,0l1.4,1.43a1.91,1.91,0,0,1,.58,1.4,1.91,1.91,0,0,1-.58,1.4L9.25,21ZM18.45,9,17,7.55Zm-12,3A5.31,5.31,0,0,0,4.9,8.1,5.31,5.31,0,0,0,1,6.5,5.31,5.31,0,0,0,4.9,4.9,5.31,5.31,0,0,0,6.5,1,5.31,5.31,0,0,0,8.1,4.9,5.31,5.31,0,0,0,12,6.5,5.46,5.46,0,0,0,6.5,12Z\"/>\n",
              "  </svg>\n",
              "    </button>\n",
              "    <script>\n",
              "      (() => {\n",
              "      const buttonEl =\n",
              "        document.querySelector('#id_0c60f22a-8538-43e6-893b-2da82251b4ce button.colab-df-generate');\n",
              "      buttonEl.style.display =\n",
              "        google.colab.kernel.accessAllowed ? 'block' : 'none';\n",
              "\n",
              "      buttonEl.onclick = () => {\n",
              "        google.colab.notebook.generateWithVariable('avg_perf');\n",
              "      }\n",
              "      })();\n",
              "    </script>\n",
              "  </div>\n",
              "\n",
              "    </div>\n",
              "  </div>\n"
            ],
            "application/vnd.google.colaboratory.intrinsic+json": {
              "type": "dataframe",
              "variable_name": "avg_perf",
              "summary": "{\n  \"name\": \"avg_perf\",\n  \"rows\": 5,\n  \"fields\": [\n    {\n      \"column\": \"job_role\",\n      \"properties\": {\n        \"dtype\": \"string\",\n        \"num_unique_values\": 5,\n        \"samples\": [\n          \"COMMERCIAL\",\n          \"TECHNOLOGY\",\n          \"OPERATIONAL\"\n        ],\n        \"semantic_type\": \"\",\n        \"description\": \"\"\n      }\n    },\n    {\n      \"column\": \"average_performance\",\n      \"properties\": {\n        \"dtype\": \"number\",\n        \"std\": 0,\n        \"min\": 3,\n        \"max\": 4,\n        \"num_unique_values\": 2,\n        \"samples\": [\n          3,\n          4\n        ],\n        \"semantic_type\": \"\",\n        \"description\": \"\"\n      }\n    }\n  ]\n}"
            }
          },
          "metadata": {},
          "execution_count": 37
        }
      ]
    },
    {
      "cell_type": "code",
      "source": [
        "# average performance score in each job role - visualization\n",
        "\n",
        "# set seaborn style\n",
        "sns.set(style='ticks')\n",
        "\n",
        "# create barplot using seaborn\n",
        "plt.figure(figsize=(6, 5))\n",
        "ax = sns.barplot(x='job_role', y='average_performance', data=avg_perf, palette='bright')\n",
        "\n",
        "# add value labels\n",
        "for p in ax.patches:\n",
        "  ax. annotate(format(p.get_height(), '.0f'),\n",
        "               (p.get_x() + p.get_width() / 2., p.get_height()),\n",
        "               ha = 'center', va = 'bottom')\n",
        "\n",
        "# set plot title and labels\n",
        "plt.title('Average Performance Score by Job Role', fontsize=14, weight='bold')\n",
        "plt.xticks(fontsize=10, rotation=90)\n",
        "plt.xlabel('Job Role', fontsize=12)\n",
        "plt.ylabel('Average Performance Score', fontsize=12)\n",
        "\n",
        "# add an average line\n",
        "average_performance = np.mean(avg_perf['average_performance'])\n",
        "plt.axhline(y=average_performance, color='red', linestyle='--', label='Avg')\n",
        "\n",
        "plt.show()"
      ],
      "metadata": {
        "colab": {
          "base_uri": "https://localhost:8080/",
          "height": 665
        },
        "id": "4W6o4lnyf01R",
        "outputId": "68935842-a810-4cd3-c7c0-376c4fd1093e"
      },
      "execution_count": 42,
      "outputs": [
        {
          "output_type": "stream",
          "name": "stderr",
          "text": [
            "<ipython-input-42-8e6122255855>:8: FutureWarning: \n",
            "\n",
            "Passing `palette` without assigning `hue` is deprecated and will be removed in v0.14.0. Assign the `x` variable to `hue` and set `legend=False` for the same effect.\n",
            "\n",
            "  ax = sns.barplot(x='job_role', y='average_performance', data=avg_perf, palette='bright')\n"
          ]
        },
        {
          "output_type": "display_data",
          "data": {
            "text/plain": [
              "<Figure size 600x500 with 1 Axes>"
            ],
            "image/png": "[encoded data removed]"
          },
          "metadata": {}
        }
      ]
    },
    {
      "cell_type": "markdown",
      "source": [
        "**Conclusion:** Roles like PEOPLE, COMMERCIAL, and FINANCIAL have high performance scores, suggesting strong alignment with company goals. The TECHNOLOGY role, however, shows a lower average performance score, which may indicate a need for targeted development.\n",
        "> **Actionable Insight:** Design training programs focused on the Technology department to enhance performance and talent development. For high-performing roles, explore mentoring opportunities where employees in these roles can share best practices."
      ],
      "metadata": {
        "id": "AmXS5geLmXua"
      }
    },
    {
      "cell_type": "markdown",
      "source": [
        "### Suggested Area for Further Analysis\n",
        "\n",
        "**Diversity and Inclusion Analysis.** Explore whether there are disparities in performance, capacity, or talent scores based on gender, age, or work location. This can inform diversity and inclusion initiatives within the company."
      ],
      "metadata": {
        "id": "G_YfraMAZj9B"
      }
    }
  ],
  "metadata": {
    "colab": {
      "provenance": []
    },
    "kernelspec": {
      "display_name": "Python 3",
      "name": "python3"
    },
    "language_info": {
      "name": "python"
    }
  },
  "nbformat": 4,
  "nbformat_minor": 0
}